{
 "cells": [
  {
   "cell_type": "code",
   "execution_count": 1,
   "id": "6897a25f",
   "metadata": {},
   "outputs": [],
   "source": [
    "from tensorflow.keras.preprocessing.image import ImageDataGenerator\n",
    "from tensorflow.keras.optimizers import Adam\n",
    "from tensorflow.keras.preprocessing.image import img_to_array\n",
    "from tensorflow.keras.utils import to_categorical, plot_model\n",
    "from tensorflow.keras.models import Sequential\n",
    "from tensorflow.keras.layers import BatchNormalization, Conv2D, MaxPooling2D, Activation, Flatten, Dropout, Dense\n",
    "from tensorflow.keras import backend as K\n",
    "from sklearn.model_selection import train_test_split\n",
    "import matplotlib.pyplot as plt\n",
    "import numpy as np\n",
    "import random\n",
    "import cv2\n",
    "import os\n",
    "import glob"
   ]
  },
  {
   "cell_type": "code",
   "execution_count": 2,
   "id": "3f9b3299",
   "metadata": {},
   "outputs": [],
   "source": [
    "# initial parameters\n",
    "epochs = 100\n",
    "lr = 1e-3\n",
    "batch_size = 64\n",
    "img_dims = (96,96,3)\n",
    "\n",
    "data = []\n",
    "labels = []"
   ]
  },
  {
   "cell_type": "code",
   "execution_count": 3,
   "id": "c38394c9",
   "metadata": {},
   "outputs": [],
   "source": [
    "# load image files from the dataset\n",
    "image_files = [f for f in glob.glob(r'Data' + \"/**/*\", recursive=True) if not os.path.isdir(f)]\n",
    "random.shuffle(image_files)"
   ]
  },
  {
   "cell_type": "code",
   "execution_count": 4,
   "id": "5861bbfc",
   "metadata": {},
   "outputs": [],
   "source": [
    "# converting images to arrays and labelling the categories\n",
    "for img in image_files:\n",
    "\n",
    "    image = cv2.imread(img)\n",
    "    \n",
    "    image = cv2.resize(image, (img_dims[0],img_dims[1]))\n",
    "    image = img_to_array(image)\n",
    "    data.append(image)\n",
    "\n",
    "    label = img.split(os.path.sep)[-2] # \\woman\\face_1162.jpg\n",
    "    if label == \"woman\":\n",
    "        label = 1\n",
    "    else:\n",
    "        label = 0\n",
    "        \n",
    "    labels.append([label]) # [[1], [0], [0], ...]"
   ]
  },
  {
   "cell_type": "code",
   "execution_count": 5,
   "id": "c60bb51d",
   "metadata": {},
   "outputs": [],
   "source": [
    "data = np.array(data, dtype=\"float\") / 255.0\n",
    "labels = np.array(labels)"
   ]
  },
  {
   "cell_type": "code",
   "execution_count": 6,
   "id": "6c5269c0",
   "metadata": {},
   "outputs": [],
   "source": [
    "# split dataset for training and validation\n",
    "(trainX, testX, trainY, testY) = train_test_split(data, labels, test_size=0.2,\n",
    "                                                  random_state=42)"
   ]
  },
  {
   "cell_type": "code",
   "execution_count": 7,
   "id": "3508db6e",
   "metadata": {},
   "outputs": [
    {
     "data": {
      "text/plain": [
       "array([[0],\n",
       "       [1],\n",
       "       [1],\n",
       "       [1],\n",
       "       [0],\n",
       "       [1],\n",
       "       [0],\n",
       "       [1],\n",
       "       [1],\n",
       "       [1]])"
      ]
     },
     "execution_count": 7,
     "metadata": {},
     "output_type": "execute_result"
    }
   ],
   "source": [
    "trainY[:10]"
   ]
  },
  {
   "cell_type": "code",
   "execution_count": 8,
   "id": "f91e1c7d",
   "metadata": {},
   "outputs": [],
   "source": [
    "trainY = to_categorical(trainY, num_classes=2) # [[1, 0], [0, 1], [0, 1], ...]   #[man,woman]\n",
    "testY = to_categorical(testY, num_classes=2)"
   ]
  },
  {
   "cell_type": "code",
   "execution_count": 9,
   "id": "13877931",
   "metadata": {},
   "outputs": [],
   "source": [
    "# augmenting datset \n",
    "Datagen = ImageDataGenerator(rotation_range=25, width_shift_range=0.1,\n",
    "                         height_shift_range=0.1, shear_range=0.2, zoom_range=0.2,\n",
    "                         horizontal_flip=True, fill_mode=\"nearest\")"
   ]
  },
  {
   "cell_type": "code",
   "execution_count": 10,
   "id": "05640755",
   "metadata": {},
   "outputs": [],
   "source": [
    "width=img_dims[0], \n",
    "height=img_dims[1], \n",
    "depth=img_dims[2],\n",
    "classes=2"
   ]
  },
  {
   "cell_type": "code",
   "execution_count": 11,
   "id": "44a20eb4",
   "metadata": {},
   "outputs": [],
   "source": [
    "inputShape = (96,96,3)"
   ]
  },
  {
   "cell_type": "code",
   "execution_count": 12,
   "id": "82bd679d",
   "metadata": {},
   "outputs": [],
   "source": [
    "chanDim = -1"
   ]
  },
  {
   "cell_type": "code",
   "execution_count": 13,
   "id": "69c95034",
   "metadata": {},
   "outputs": [],
   "source": [
    "if K.image_data_format() == \"channels_first\": #Returns a string, either 'channels_first' or 'channels_last'\n",
    "    inputShape = (depth, height, width)\n",
    "    chanDim = 1"
   ]
  },
  {
   "cell_type": "code",
   "execution_count": 14,
   "id": "58745ecf",
   "metadata": {},
   "outputs": [],
   "source": [
    "model = Sequential()\n",
    "\n",
    "model.add(Conv2D(32, (3,3), padding=\"same\", input_shape=inputShape))\n",
    "model.add(Activation(\"relu\"))\n",
    "model.add(BatchNormalization(axis=chanDim))\n",
    "model.add(MaxPooling2D(pool_size=(3,3)))\n",
    "model.add(Dropout(0.25))\n",
    "\n",
    "model.add(Conv2D(64, (3,3), padding=\"same\"))\n",
    "model.add(Activation(\"relu\"))\n",
    "model.add(BatchNormalization(axis=chanDim))\n",
    "\n",
    "model.add(Conv2D(64, (3,3), padding=\"same\"))\n",
    "model.add(Activation(\"relu\"))\n",
    "model.add(BatchNormalization(axis=chanDim))\n",
    "model.add(MaxPooling2D(pool_size=(2,2)))\n",
    "model.add(Dropout(0.25))\n",
    "\n",
    "model.add(Conv2D(128, (3,3), padding=\"same\"))\n",
    "model.add(Activation(\"relu\"))\n",
    "model.add(BatchNormalization(axis=chanDim))\n",
    "\n",
    "model.add(Conv2D(128, (3,3), padding=\"same\"))\n",
    "model.add(Activation(\"relu\"))\n",
    "model.add(BatchNormalization(axis=chanDim))\n",
    "model.add(MaxPooling2D(pool_size=(2,2)))\n",
    "model.add(Dropout(0.25))\n",
    "\n",
    "model.add(Flatten())\n",
    "model.add(Dense(1024))\n",
    "model.add(Activation(\"relu\"))\n",
    "model.add(BatchNormalization())\n",
    "model.add(Dropout(0.5))\n",
    "\n",
    "model.add(Dense(classes))\n",
    "model.add(Activation(\"sigmoid\"))"
   ]
  },
  {
   "cell_type": "code",
   "execution_count": 15,
   "id": "d7245900",
   "metadata": {},
   "outputs": [
    {
     "name": "stdout",
     "output_type": "stream",
     "text": [
      "Model: \"sequential\"\n",
      "_________________________________________________________________\n",
      "Layer (type)                 Output Shape              Param #   \n",
      "=================================================================\n",
      "conv2d (Conv2D)              (None, 96, 96, 32)        896       \n",
      "_________________________________________________________________\n",
      "activation (Activation)      (None, 96, 96, 32)        0         \n",
      "_________________________________________________________________\n",
      "batch_normalization (BatchNo (None, 96, 96, 32)        128       \n",
      "_________________________________________________________________\n",
      "max_pooling2d (MaxPooling2D) (None, 32, 32, 32)        0         \n",
      "_________________________________________________________________\n",
      "dropout (Dropout)            (None, 32, 32, 32)        0         \n",
      "_________________________________________________________________\n",
      "conv2d_1 (Conv2D)            (None, 32, 32, 64)        18496     \n",
      "_________________________________________________________________\n",
      "activation_1 (Activation)    (None, 32, 32, 64)        0         \n",
      "_________________________________________________________________\n",
      "batch_normalization_1 (Batch (None, 32, 32, 64)        256       \n",
      "_________________________________________________________________\n",
      "conv2d_2 (Conv2D)            (None, 32, 32, 64)        36928     \n",
      "_________________________________________________________________\n",
      "activation_2 (Activation)    (None, 32, 32, 64)        0         \n",
      "_________________________________________________________________\n",
      "batch_normalization_2 (Batch (None, 32, 32, 64)        256       \n",
      "_________________________________________________________________\n",
      "max_pooling2d_1 (MaxPooling2 (None, 16, 16, 64)        0         \n",
      "_________________________________________________________________\n",
      "dropout_1 (Dropout)          (None, 16, 16, 64)        0         \n",
      "_________________________________________________________________\n",
      "conv2d_3 (Conv2D)            (None, 16, 16, 128)       73856     \n",
      "_________________________________________________________________\n",
      "activation_3 (Activation)    (None, 16, 16, 128)       0         \n",
      "_________________________________________________________________\n",
      "batch_normalization_3 (Batch (None, 16, 16, 128)       512       \n",
      "_________________________________________________________________\n",
      "conv2d_4 (Conv2D)            (None, 16, 16, 128)       147584    \n",
      "_________________________________________________________________\n",
      "activation_4 (Activation)    (None, 16, 16, 128)       0         \n",
      "_________________________________________________________________\n",
      "batch_normalization_4 (Batch (None, 16, 16, 128)       512       \n",
      "_________________________________________________________________\n",
      "max_pooling2d_2 (MaxPooling2 (None, 8, 8, 128)         0         \n",
      "_________________________________________________________________\n",
      "dropout_2 (Dropout)          (None, 8, 8, 128)         0         \n",
      "_________________________________________________________________\n",
      "flatten (Flatten)            (None, 8192)              0         \n",
      "_________________________________________________________________\n",
      "dense (Dense)                (None, 1024)              8389632   \n",
      "_________________________________________________________________\n",
      "activation_5 (Activation)    (None, 1024)              0         \n",
      "_________________________________________________________________\n",
      "batch_normalization_5 (Batch (None, 1024)              4096      \n",
      "_________________________________________________________________\n",
      "dropout_3 (Dropout)          (None, 1024)              0         \n",
      "_________________________________________________________________\n",
      "dense_1 (Dense)              (None, 2)                 2050      \n",
      "_________________________________________________________________\n",
      "activation_6 (Activation)    (None, 2)                 0         \n",
      "=================================================================\n",
      "Total params: 8,675,202\n",
      "Trainable params: 8,672,322\n",
      "Non-trainable params: 2,880\n",
      "_________________________________________________________________\n"
     ]
    }
   ],
   "source": [
    "model.summary()"
   ]
  },
  {
   "cell_type": "code",
   "execution_count": 16,
   "id": "3537b08d",
   "metadata": {},
   "outputs": [],
   "source": [
    "# compile the model\n",
    "opt = Adam(lr=lr, decay=lr/epochs)\n",
    "model.compile(loss=\"binary_crossentropy\", optimizer=opt, metrics=[\"accuracy\"])"
   ]
  },
  {
   "cell_type": "code",
   "execution_count": 17,
   "id": "31539d88",
   "metadata": {},
   "outputs": [],
   "source": [
    "train_datagen = Datagen.flow(trainX, trainY, batch_size=batch_size)"
   ]
  },
  {
   "cell_type": "code",
   "execution_count": 18,
   "id": "b79d2d96",
   "metadata": {},
   "outputs": [],
   "source": [
    "from tensorflow.keras.callbacks import EarlyStopping, ModelCheckpoint"
   ]
  },
  {
   "cell_type": "code",
   "execution_count": 19,
   "id": "4432da90",
   "metadata": {},
   "outputs": [],
   "source": [
    "#early stopping\n",
    "earlystop = EarlyStopping(monitor='val_accuracy',\n",
    "                          mode=\"max\",\n",
    "                          min_delta=0.01,\n",
    "                          patience=10,\n",
    "                          verbose=1,\n",
    "                         )"
   ]
  },
  {
   "cell_type": "code",
   "execution_count": 20,
   "id": "41288c71",
   "metadata": {},
   "outputs": [],
   "source": [
    "chckpoint = ModelCheckpoint(\"bestmodel.model\",\n",
    "                            monitor='val_accuracy',\n",
    "                            save_best_only=True,\n",
    "                            verbose=1,\n",
    "                            mode=\"max\"\n",
    "                           )"
   ]
  },
  {
   "cell_type": "code",
   "execution_count": 21,
   "id": "ec08d1f0",
   "metadata": {
    "scrolled": false
   },
   "outputs": [
    {
     "name": "stdout",
     "output_type": "stream",
     "text": [
      "Epoch 1/100\n",
      "28/28 [==============================] - ETA: 0s - loss: 0.7860 - accuracy: 0.7209\n",
      "Epoch 00001: val_accuracy improved from -inf to 0.54329, saving model to bestmodel.model\n",
      "WARNING:tensorflow:From C:\\Users\\Shivah Sae\\AppData\\Roaming\\Python\\Python37\\site-packages\\tensorflow\\python\\training\\tracking\\tracking.py:111: Model.state_updates (from tensorflow.python.keras.engine.training) is deprecated and will be removed in a future version.\n",
      "Instructions for updating:\n",
      "This property should not be used in TensorFlow 2.0, as updates are applied automatically.\n",
      "WARNING:tensorflow:From C:\\Users\\Shivah Sae\\AppData\\Roaming\\Python\\Python37\\site-packages\\tensorflow\\python\\training\\tracking\\tracking.py:111: Layer.updates (from tensorflow.python.keras.engine.base_layer) is deprecated and will be removed in a future version.\n",
      "Instructions for updating:\n",
      "This property should not be used in TensorFlow 2.0, as updates are applied automatically.\n",
      "INFO:tensorflow:Assets written to: bestmodel.model\\assets\n",
      "28/28 [==============================] - 30s 1s/step - loss: 0.7860 - accuracy: 0.7209 - val_loss: 0.6859 - val_accuracy: 0.5433\n",
      "Epoch 2/100\n",
      "28/28 [==============================] - ETA: 0s - loss: 0.5143 - accuracy: 0.7900\n",
      "Epoch 00002: val_accuracy did not improve from 0.54329\n",
      "28/28 [==============================] - 27s 977ms/step - loss: 0.5143 - accuracy: 0.7900 - val_loss: 0.7027 - val_accuracy: 0.5087\n",
      "Epoch 3/100\n",
      "28/28 [==============================] - ETA: 0s - loss: 0.4611 - accuracy: 0.8259\n",
      "Epoch 00003: val_accuracy improved from 0.54329 to 0.60606, saving model to bestmodel.model\n",
      "INFO:tensorflow:Assets written to: bestmodel.model\\assets\n",
      "28/28 [==============================] - 30s 1s/step - loss: 0.4611 - accuracy: 0.8259 - val_loss: 0.6328 - val_accuracy: 0.6061\n",
      "Epoch 4/100\n",
      "28/28 [==============================] - ETA: 0s - loss: 0.3923 - accuracy: 0.8478\n",
      "Epoch 00004: val_accuracy did not improve from 0.60606\n",
      "28/28 [==============================] - 28s 995ms/step - loss: 0.3923 - accuracy: 0.8478 - val_loss: 0.9413 - val_accuracy: 0.5022\n",
      "Epoch 5/100\n",
      "28/28 [==============================] - ETA: 0s - loss: 0.3608 - accuracy: 0.8770\n",
      "Epoch 00005: val_accuracy did not improve from 0.60606\n",
      "28/28 [==============================] - 27s 970ms/step - loss: 0.3608 - accuracy: 0.8770 - val_loss: 1.2070 - val_accuracy: 0.5022\n",
      "Epoch 6/100\n",
      "28/28 [==============================] - ETA: 0s - loss: 0.3242 - accuracy: 0.8793\n",
      "Epoch 00006: val_accuracy did not improve from 0.60606\n",
      "28/28 [==============================] - 27s 977ms/step - loss: 0.3242 - accuracy: 0.8793 - val_loss: 1.4067 - val_accuracy: 0.5043\n",
      "Epoch 7/100\n",
      "28/28 [==============================] - ETA: 0s - loss: 0.2829 - accuracy: 0.8877\n",
      "Epoch 00007: val_accuracy did not improve from 0.60606\n",
      "28/28 [==============================] - 27s 963ms/step - loss: 0.2829 - accuracy: 0.8877 - val_loss: 1.1032 - val_accuracy: 0.5152\n",
      "Epoch 8/100\n",
      "28/28 [==============================] - ETA: 0s - loss: 0.2907 - accuracy: 0.8916\n",
      "Epoch 00008: val_accuracy did not improve from 0.60606\n",
      "28/28 [==============================] - 27s 963ms/step - loss: 0.2907 - accuracy: 0.8916 - val_loss: 0.8013 - val_accuracy: 0.5887\n",
      "Epoch 9/100\n",
      "28/28 [==============================] - ETA: 0s - loss: 0.3078 - accuracy: 0.8928\n",
      "Epoch 00009: val_accuracy did not improve from 0.60606\n",
      "28/28 [==============================] - 27s 975ms/step - loss: 0.3078 - accuracy: 0.8928 - val_loss: 0.9669 - val_accuracy: 0.5411\n",
      "Epoch 10/100\n",
      "28/28 [==============================] - ETA: 0s - loss: 0.2655 - accuracy: 0.9040\n",
      "Epoch 00010: val_accuracy improved from 0.60606 to 0.64719, saving model to bestmodel.model\n",
      "INFO:tensorflow:Assets written to: bestmodel.model\\assets\n",
      "28/28 [==============================] - 30s 1s/step - loss: 0.2655 - accuracy: 0.9040 - val_loss: 0.7117 - val_accuracy: 0.6472\n",
      "Epoch 11/100\n",
      "28/28 [==============================] - ETA: 0s - loss: 0.2165 - accuracy: 0.9230\n",
      "Epoch 00011: val_accuracy improved from 0.64719 to 0.91342, saving model to bestmodel.model\n",
      "INFO:tensorflow:Assets written to: bestmodel.model\\assets\n",
      "28/28 [==============================] - 30s 1s/step - loss: 0.2165 - accuracy: 0.9230 - val_loss: 0.2667 - val_accuracy: 0.9134\n",
      "Epoch 12/100\n",
      "28/28 [==============================] - ETA: 0s - loss: 0.2184 - accuracy: 0.9264\n",
      "Epoch 00012: val_accuracy did not improve from 0.91342\n",
      "28/28 [==============================] - 27s 970ms/step - loss: 0.2184 - accuracy: 0.9264 - val_loss: 0.3571 - val_accuracy: 0.8355\n",
      "Epoch 13/100\n",
      "28/28 [==============================] - ETA: 0s - loss: 0.1991 - accuracy: 0.9259\n",
      "Epoch 00013: val_accuracy did not improve from 0.91342\n",
      "28/28 [==============================] - 27s 973ms/step - loss: 0.1991 - accuracy: 0.9259 - val_loss: 0.8473 - val_accuracy: 0.6515\n",
      "Epoch 14/100\n",
      "28/28 [==============================] - ETA: 0s - loss: 0.1711 - accuracy: 0.9304\n",
      "Epoch 00014: val_accuracy improved from 0.91342 to 0.92208, saving model to bestmodel.model\n",
      "INFO:tensorflow:Assets written to: bestmodel.model\\assets\n",
      "28/28 [==============================] - 30s 1s/step - loss: 0.1711 - accuracy: 0.9304 - val_loss: 0.2003 - val_accuracy: 0.9221\n",
      "Epoch 15/100\n",
      "28/28 [==============================] - ETA: 0s - loss: 0.1575 - accuracy: 0.9414\n",
      "Epoch 00015: val_accuracy did not improve from 0.92208\n",
      "28/28 [==============================] - 28s 994ms/step - loss: 0.1575 - accuracy: 0.9414 - val_loss: 0.2424 - val_accuracy: 0.9026\n",
      "Epoch 16/100\n",
      "28/28 [==============================] - ETA: 0s - loss: 0.1513 - accuracy: 0.9433\n",
      "Epoch 00016: val_accuracy did not improve from 0.92208\n",
      "28/28 [==============================] - 28s 983ms/step - loss: 0.1513 - accuracy: 0.9433 - val_loss: 0.4428 - val_accuracy: 0.8398\n",
      "Epoch 17/100\n",
      "28/28 [==============================] - ETA: 0s - loss: 0.1602 - accuracy: 0.9467\n",
      "Epoch 00017: val_accuracy did not improve from 0.92208\n",
      "28/28 [==============================] - 27s 952ms/step - loss: 0.1602 - accuracy: 0.9467 - val_loss: 0.7505 - val_accuracy: 0.8203\n",
      "Epoch 18/100\n",
      "28/28 [==============================] - ETA: 0s - loss: 0.1627 - accuracy: 0.9427\n",
      "Epoch 00018: val_accuracy did not improve from 0.92208\n",
      "28/28 [==============================] - 27s 949ms/step - loss: 0.1627 - accuracy: 0.9427 - val_loss: 0.5970 - val_accuracy: 0.7900\n",
      "Epoch 19/100\n",
      "28/28 [==============================] - ETA: 0s - loss: 0.1575 - accuracy: 0.9444\n",
      "Epoch 00019: val_accuracy did not improve from 0.92208\n",
      "28/28 [==============================] - 26s 946ms/step - loss: 0.1575 - accuracy: 0.9444 - val_loss: 0.3595 - val_accuracy: 0.8658\n",
      "Epoch 20/100\n",
      "28/28 [==============================] - ETA: 0s - loss: 0.1234 - accuracy: 0.9585\n",
      "Epoch 00020: val_accuracy did not improve from 0.92208\n",
      "28/28 [==============================] - 27s 952ms/step - loss: 0.1234 - accuracy: 0.9585 - val_loss: 0.2024 - val_accuracy: 0.9199\n",
      "Epoch 21/100\n",
      "28/28 [==============================] - ETA: 0s - loss: 0.1388 - accuracy: 0.9444\n",
      "Epoch 00021: val_accuracy did not improve from 0.92208\n",
      "28/28 [==============================] - 27s 949ms/step - loss: 0.1388 - accuracy: 0.9444 - val_loss: 0.6514 - val_accuracy: 0.8009\n",
      "Epoch 00021: early stopping\n"
     ]
    }
   ],
   "source": [
    "History = model.fit(train_datagen,\n",
    "                    validation_data=(testX,testY),\n",
    "                    callbacks = [earlystop,chckpoint],\n",
    "                    steps_per_epoch=len(trainX) // batch_size,\n",
    "                    epochs=epochs, verbose=1)"
   ]
  },
  {
   "cell_type": "code",
   "execution_count": 23,
   "id": "825ab5f5",
   "metadata": {},
   "outputs": [
    {
     "data": {
      "image/png": "[encoded data removed]",
      "text/plain": [
       "<Figure size 432x288 with 1 Axes>"
      ]
     },
     "metadata": {},
     "output_type": "display_data"
    }
   ],
   "source": [
    "# plot training/validation loss/accuracy\n",
    "plt.style.use(\"ggplot\")\n",
    "plt.figure()\n",
    "N = 14 #upto where the model has been last saved\n",
    "plt.plot(np.arange(0,N), History.history[\"loss\"][:14], label=\"train_loss\")\n",
    "plt.plot(np.arange(0,N), History.history[\"val_loss\"][:14], label=\"val_loss\")\n",
    "plt.title(\" Loss Plot\")\n",
    "plt.xlabel(\"Epochs \")\n",
    "plt.ylabel(\"Loss\")\n",
    "plt.legend(loc=\"upper right\")\n",
    "\n",
    "# save plot to disk\n",
    "plt.savefig('loss_plot.png')"
   ]
  },
  {
   "cell_type": "code",
   "execution_count": 24,
   "id": "204f96e4",
   "metadata": {},
   "outputs": [
    {
     "data": {
      "image/png": "[encoded data removed]",
      "text/plain": [
       "<Figure size 432x288 with 1 Axes>"
      ]
     },
     "metadata": {},
     "output_type": "display_data"
    }
   ],
   "source": [
    "plt.plot(np.arange(0,N), History.history[\"accuracy\"][:14], label=\"train_acc\")\n",
    "plt.plot(np.arange(0,N), History.history[\"val_accuracy\"][:14], label=\"val_acc\")\n",
    "plt.title(\" Accuracy Plot\")\n",
    "plt.xlabel(\"Epochs \")\n",
    "plt.ylabel(\"Accuracy\")\n",
    "plt.legend(loc=\"lower right\")\n",
    "\n",
    "# save plot to disk\n",
    "plt.savefig('Accuracy_plot.png')"
   ]
  },
  {
   "cell_type": "markdown",
   "id": "7a6f4a91",
   "metadata": {},
   "source": [
    "# Testing"
   ]
  },
  {
   "cell_type": "code",
   "execution_count": 25,
   "id": "2d2d948f",
   "metadata": {},
   "outputs": [],
   "source": [
    "from tensorflow.keras.preprocessing.image import load_img,img_to_array"
   ]
  },
  {
   "cell_type": "code",
   "execution_count": 26,
   "id": "ff57a049",
   "metadata": {},
   "outputs": [],
   "source": [
    "img = load_img(\"Data/man/face_1.jpg\")"
   ]
  },
  {
   "cell_type": "code",
   "execution_count": 27,
   "id": "17f114c1",
   "metadata": {},
   "outputs": [],
   "source": [
    "img = img.resize((96,96))"
   ]
  },
  {
   "cell_type": "code",
   "execution_count": 28,
   "id": "36daff85",
   "metadata": {},
   "outputs": [
    {
     "data": {
      "image/png": "[encoded data removed]",
      "text/plain": [
       "<PIL.Image.Image image mode=RGB size=96x96 at 0x27FF3F4CE48>"
      ]
     },
     "execution_count": 28,
     "metadata": {},
     "output_type": "execute_result"
    }
   ],
   "source": [
    "img"
   ]
  },
  {
   "cell_type": "code",
   "execution_count": 29,
   "id": "7b61fff4",
   "metadata": {},
   "outputs": [],
   "source": [
    "img = img_to_array(img)"
   ]
  },
  {
   "cell_type": "code",
   "execution_count": 30,
   "id": "fcb10df2",
   "metadata": {},
   "outputs": [],
   "source": [
    "img = img.reshape((1,96,96,3))/255.0"
   ]
  },
  {
   "cell_type": "code",
   "execution_count": 31,
   "id": "0e9406f8",
   "metadata": {},
   "outputs": [],
   "source": [
    "pred = model.predict(img)"
   ]
  },
  {
   "cell_type": "code",
   "execution_count": 32,
   "id": "057db261",
   "metadata": {},
   "outputs": [
    {
     "name": "stdout",
     "output_type": "stream",
     "text": [
      "man\n",
      "0.9774705\n"
     ]
    }
   ],
   "source": [
    "if np.argmax(pred) == 0:\n",
    "    print(\"man\")\n",
    "    print(pred[0][0])\n",
    "else:\n",
    "    print(\"woman\")\n",
    "    print(pred[0][1])"
   ]
  },
  {
   "cell_type": "code",
   "execution_count": 33,
   "id": "4e59ff27",
   "metadata": {},
   "outputs": [
    {
     "data": {
      "text/plain": [
       "0.9774705"
      ]
     },
     "execution_count": 33,
     "metadata": {},
     "output_type": "execute_result"
    }
   ],
   "source": [
    "pred[0][0]"
   ]
  },
  {
   "cell_type": "code",
   "execution_count": null,
   "id": "92776ba5",
   "metadata": {},
   "outputs": [],
   "source": []
  }
 ],
 "metadata": {
  "kernelspec": {
   "display_name": "Python 3 (ipykernel)",
   "language": "python",
   "name": "python3"
  },
  "language_info": {
   "codemirror_mode": {
    "name": "ipython",
    "version": 3
   },
   "file_extension": ".py",
   "mimetype": "text/x-python",
   "name": "python",
   "nbconvert_exporter": "python",
   "pygments_lexer": "ipython3",
   "version": "3.7.11"
  }
 },
 "nbformat": 4,
 "nbformat_minor": 5
}
